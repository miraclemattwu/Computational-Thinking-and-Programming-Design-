{
  "nbformat": 4,
  "nbformat_minor": 0,
  "metadata": {
    "colab": {
      "name": "2019/12/19  A108260080 HOMEWORK",
      "provenance": [],
      "include_colab_link": true
    },
    "kernelspec": {
      "name": "python3",
      "display_name": "Python 3"
    }
  },
  "cells": [
    {
      "cell_type": "markdown",
      "metadata": {
        "id": "view-in-github",
        "colab_type": "text"
      },
      "source": [
        "<a href=\"https://colab.research.google.com/github/miraclemattwu/Computational-Thinking-and-Programming-Design-/blob/master/2019_12_19_A108260080_HOMEWORK.ipynb\" target=\"_parent\"><img src=\"https://colab.research.google.com/assets/colab-badge.svg\" alt=\"Open In Colab\"/></a>"
      ]
    },
    {
      "cell_type": "code",
      "metadata": {
        "id": "cu0GfHfDyydZ",
        "colab_type": "code",
        "colab": {
          "base_uri": "https://localhost:8080/",
          "height": 563
        },
        "outputId": "70093613-9073-45d7-dbd8-35671a4466bc"
      },
      "source": [
        "# The sum of 1 to x is greater than 50\n",
        " \n",
        " x=0\n",
        " sum=0\n",
        "\n",
        " while sum <=50:\n",
        "   x=x+1\n",
        "   sum=sum+x\n",
        "   print(\"X is\",x)\n",
        "   print(\"Sum is\", sum)\n",
        "\n",
        "   print(\"Finished\")"
      ],
      "execution_count": 1,
      "outputs": [
        {
          "output_type": "stream",
          "text": [
            "X is 1\n",
            "Sum is 1\n",
            "Finished\n",
            "X is 2\n",
            "Sum is 3\n",
            "Finished\n",
            "X is 3\n",
            "Sum is 6\n",
            "Finished\n",
            "X is 4\n",
            "Sum is 10\n",
            "Finished\n",
            "X is 5\n",
            "Sum is 15\n",
            "Finished\n",
            "X is 6\n",
            "Sum is 21\n",
            "Finished\n",
            "X is 7\n",
            "Sum is 28\n",
            "Finished\n",
            "X is 8\n",
            "Sum is 36\n",
            "Finished\n",
            "X is 9\n",
            "Sum is 45\n",
            "Finished\n",
            "X is 10\n",
            "Sum is 55\n",
            "Finished\n"
          ],
          "name": "stdout"
        }
      ]
    },
    {
      "cell_type": "code",
      "metadata": {
        "id": "FpMHfkVozt97",
        "colab_type": "code",
        "colab": {
          "base_uri": "https://localhost:8080/",
          "height": 381
        },
        "outputId": "c5d4e9f5-4270-42dc-cc19-7111e4072d83"
      },
      "source": [
        "# Seal 10 times HELLO\n",
        " x=0\n",
        " while x<10:\n",
        "   x=x+1\n",
        "   print(\"This is\",x,\"times HELLO\")\n",
        "   print(\"Finished\")"
      ],
      "execution_count": 2,
      "outputs": [
        {
          "output_type": "stream",
          "text": [
            "This is 1 times HELLO\n",
            "Finished\n",
            "This is 2 times HELLO\n",
            "Finished\n",
            "This is 3 times HELLO\n",
            "Finished\n",
            "This is 4 times HELLO\n",
            "Finished\n",
            "This is 5 times HELLO\n",
            "Finished\n",
            "This is 6 times HELLO\n",
            "Finished\n",
            "This is 7 times HELLO\n",
            "Finished\n",
            "This is 8 times HELLO\n",
            "Finished\n",
            "This is 9 times HELLO\n",
            "Finished\n",
            "This is 10 times HELLO\n",
            "Finished\n"
          ],
          "name": "stdout"
        }
      ]
    },
    {
      "cell_type": "code",
      "metadata": {
        "id": "Wp6FOQqH0agz",
        "colab_type": "code",
        "colab": {
          "base_uri": "https://localhost:8080/",
          "height": 135
        },
        "outputId": "5621a847-1266-4b69-ac63-8be00563cf10"
      },
      "source": [
        " #Sum of 1 to 9 bases\n",
        "  sum=0\n",
        "  x=1\n",
        "   \n",
        "   while x<11:\n",
        "     sum=sum+x\n",
        "     x=x+2\n",
        "\n",
        "     print(\"1+3+5+7+9=\",sum)"
      ],
      "execution_count": 9,
      "outputs": [
        {
          "output_type": "error",
          "ename": "IndentationError",
          "evalue": "ignored",
          "traceback": [
            "\u001b[0;36m  File \u001b[0;32m\"<ipython-input-9-50d21f066811>\"\u001b[0;36m, line \u001b[0;32m4\u001b[0m\n\u001b[0;31m    while x<11:\u001b[0m\n\u001b[0m    ^\u001b[0m\n\u001b[0;31mIndentationError\u001b[0m\u001b[0;31m:\u001b[0m unexpected indent\n"
          ]
        }
      ]
    },
    {
      "cell_type": "code",
      "metadata": {
        "id": "a-y4yLgE2CuC",
        "colab_type": "code",
        "colab": {
          "base_uri": "https://localhost:8080/",
          "height": 272
        },
        "outputId": "187a5c07-0960-4b64-e8ae-4a1633ce8cfb"
      },
      "source": [
        "#Find x greater than 1000 least squares sum\n",
        "sum=0\n",
        "i=0\n",
        "while sum <=1000:\n",
        "  i +=1\n",
        "  sum += i*i\n",
        "  print(\"The less x is\",i)"
      ],
      "execution_count": 5,
      "outputs": [
        {
          "output_type": "stream",
          "text": [
            "The less x is 1\n",
            "The less x is 2\n",
            "The less x is 3\n",
            "The less x is 4\n",
            "The less x is 5\n",
            "The less x is 6\n",
            "The less x is 7\n",
            "The less x is 8\n",
            "The less x is 9\n",
            "The less x is 10\n",
            "The less x is 11\n",
            "The less x is 12\n",
            "The less x is 13\n",
            "The less x is 14\n"
          ],
          "name": "stdout"
        }
      ]
    }
  ]
}