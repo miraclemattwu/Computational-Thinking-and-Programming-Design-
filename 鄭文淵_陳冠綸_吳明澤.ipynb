{
  "nbformat": 4,
  "nbformat_minor": 0,
  "metadata": {
    "colab": {
      "name": "鄭文淵 陳冠綸 吳明澤.ipynb",
      "provenance": [],
      "include_colab_link": true
    },
    "kernelspec": {
      "name": "python3",
      "display_name": "Python 3"
    }
  },
  "cells": [
    {
      "cell_type": "markdown",
      "metadata": {
        "id": "view-in-github",
        "colab_type": "text"
      },
      "source": [
        "<a href=\"https://colab.research.google.com/github/miraclemattwu/Computational-Thinking-and-Programming-Design-/blob/master/%E9%84%AD%E6%96%87%E6%B7%B5_%E9%99%B3%E5%86%A0%E7%B6%B8_%E5%90%B3%E6%98%8E%E6%BE%A4.ipynb\" target=\"_parent\"><img src=\"https://colab.research.google.com/assets/colab-badge.svg\" alt=\"Open In Colab\"/></a>"
      ]
    },
    {
      "cell_type": "code",
      "metadata": {
        "id": "rpqtPXT7SZP8",
        "colab_type": "code",
        "outputId": "c7b5fab3-6a08-45a1-cac7-83d8612e00ce",
        "colab": {
          "base_uri": "https://localhost:8080/",
          "height": 34
        }
      },
      "source": [
        "print(\"嗨\")"
      ],
      "execution_count": 0,
      "outputs": [
        {
          "output_type": "stream",
          "text": [
            "嗨\n"
          ],
          "name": "stdout"
        }
      ]
    },
    {
      "cell_type": "code",
      "metadata": {
        "id": "ghL8XGUbS49k",
        "colab_type": "code",
        "outputId": "18934120-6865-41f9-cbf7-528191061440",
        "colab": {
          "base_uri": "https://localhost:8080/",
          "height": 34
        }
      },
      "source": [
        "print(\"我是陳冠綸\")"
      ],
      "execution_count": 0,
      "outputs": [
        {
          "output_type": "stream",
          "text": [
            "我是陳冠綸\n"
          ],
          "name": "stdout"
        }
      ]
    },
    {
      "cell_type": "markdown",
      "metadata": {
        "id": "TW_CwLYVTwdH",
        "colab_type": "text"
      },
      "source": [
        "print(\"7777\")"
      ]
    },
    {
      "cell_type": "code",
      "metadata": {
        "id": "bUrBkPF2T65S",
        "colab_type": "code",
        "outputId": "bd56ea14-168f-4ccf-fed3-96a93a20f85a",
        "colab": {
          "base_uri": "https://localhost:8080/",
          "height": 34
        }
      },
      "source": [
        "print(\"7777\")"
      ],
      "execution_count": 0,
      "outputs": [
        {
          "output_type": "stream",
          "text": [
            "7777\n"
          ],
          "name": "stdout"
        }
      ]
    },
    {
      "cell_type": "code",
      "metadata": {
        "id": "wrvMKTRiT_B0",
        "colab_type": "code",
        "colab": {}
      },
      "source": [
        ""
      ],
      "execution_count": 0,
      "outputs": []
    }
  ]
}